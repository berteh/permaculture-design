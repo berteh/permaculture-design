{
 "cells": [
  {
   "cell_type": "code",
   "execution_count": 31,
   "id": "85bc7089",
   "metadata": {},
   "outputs": [],
   "source": [
    "import numpy as np\n",
    "import pandas as pd\n",
    "import random\n",
    "import ast"
   ]
  },
  {
   "cell_type": "code",
   "execution_count": 2,
   "id": "43b02a1d",
   "metadata": {},
   "outputs": [],
   "source": [
    "data = pd.read_csv('../scrapers/pfaf/all_plants.csv')"
   ]
  },
  {
   "cell_type": "code",
   "execution_count": 11,
   "id": "cb070977",
   "metadata": {},
   "outputs": [],
   "source": [
    "# Split pollinators into list. Should be unnecessary because I changed pfaf.py \n",
    "data['Pollinators'] = data['Pollinators'].apply(lambda x: str(x).split(','))"
   ]
  },
  {
   "cell_type": "code",
   "execution_count": 30,
   "id": "3183cb5c",
   "metadata": {},
   "outputs": [
    {
     "data": {
      "text/plain": [
       "'[3, 4, 5, 6, 7, 8, 9]'"
      ]
     },
     "execution_count": 30,
     "metadata": {},
     "output_type": "execute_result"
    }
   ],
   "source": [
    "data['HardinessZones'][3]"
   ]
  },
  {
   "cell_type": "code",
   "execution_count": 32,
   "id": "895ca11c",
   "metadata": {},
   "outputs": [],
   "source": [
    "def filter_plants(data, family=None, genus=None, species=None, common_name=None, growth_rate=None,\n",
    "              hardiness_zone=None, height=None, width=None, plant_type=None, pollinators=None,\n",
    "              leaf=None, flower=None, ripen=None, reproduction=None, soils=None, pH=None,\n",
    "              preferences=None, tolerances=None, habitat=None, habitat_range=None,\n",
    "              edibility=None, medicinal=None, other_uses=None, pfaf=None):\n",
    "\n",
    "    # Define the list of valid pollinators\n",
    "    valid_pollinators = ['bees', 'insects', 'wind', 'flies', 'lepidoptera', 'beetles']\n",
    "\n",
    "    filtered_df = data\n",
    "    # Filter by each column if a value is provided\n",
    "    # Starting with full dataframe self.data\n",
    "    if family is not None:\n",
    "        filtered_df = filtered_df[filtered_df['Family'] == family]\n",
    "        \n",
    "    if genus is not None:\n",
    "        filtered_df = filtered_df[filtered_df['Genus'] == genus]\n",
    "        \n",
    "    if species is not None:\n",
    "        filtered_df = filtered_df[filtered_df['Species'] == species]\n",
    "        \n",
    "    if common_name is not None:\n",
    "        filtered_df = filtered_df[filtered_df['CommonName'] == common_name]\n",
    "        \n",
    "    if growth_rate is not None:\n",
    "        filtered_df = filtered_df[filtered_df['GrowthRate'].isin(growth_rate) | filtered_df['GrowthRate'].isna()]\n",
    "        \n",
    "    if hardiness_zone is not None:\n",
    "        filtered_df = filtered_df[filtered_df['HardinessZones'].apply(lambda zones: hardiness_zone in ast.literal_eval(zones))]\n",
    "            \n",
    "    if height is not None:\n",
    "        filtered_df = filtered_df[filtered_df['Height'] == height]\n",
    "        \n",
    "    if width is not None:\n",
    "        filtered_df = filtered_df[filtered_df['Width'] == width]\n",
    "        \n",
    "    if plant_type is not None:\n",
    "        filtered_df = filtered_df[filtered_df['Type'] == plant_type]\n",
    "        \n",
    "    if pollinators is not None:\n",
    "        if isinstance(pollinators, list) and all(p in valid_pollinators for p in pollinators):\n",
    "            filtered_df = filtered_df[filtered_df['Pollinators'].apply(lambda x: all(p in x for p in pollinators))]\n",
    "        else:\n",
    "            raise ValueError(f'Pollinators must be a list of any combination of {valid_pollinators}')\n",
    "    \n",
    "    if leaf is not None:\n",
    "        filtered_df = filtered_df[filtered_df['Leaf'] == leaf]\n",
    "        \n",
    "    if flower is not None:\n",
    "        filtered_df = filtered_df[filtered_df['Flower'] == flower]\n",
    "        \n",
    "    if ripen is not None:\n",
    "        filtered_df = filtered_df[filtered_df['Ripen'] == ripen]\n",
    "        \n",
    "    if reproduction is not None:\n",
    "        filtered_df = filtered_df[filtered_df['Reproduction'] == reproduction]\n",
    "        \n",
    "    if soils is not None:\n",
    "        filtered_df = filtered_df[filtered_df['Soils'] == soils]\n",
    "        \n",
    "    if pH is not None:\n",
    "        filtered_df = filtered_df[filtered_df['pH'] == pH]\n",
    "        \n",
    "    if preferences is not None:\n",
    "        filtered_df = filtered_df[filtered_df['Preferences'] == preferences]\n",
    "        \n",
    "    if tolerances is not None:\n",
    "        filtered_df = filtered_df[filtered_df['Tolerances'] == tolerances]\n",
    "        \n",
    "    if habitat is not None:\n",
    "        filtered_df = filtered_df[filtered_df['Habitat'] == habitat]\n",
    "        \n",
    "    if habitat_range is not None:\n",
    "        filtered_df = filtered_df[filtered_df['HabitatRange'] == habitat_range]\n",
    "        \n",
    "    if edibility is not None:\n",
    "        filtered_df = filtered_df[filtered_df['Edibility'] == edibility]\n",
    "        \n",
    "    if medicinal is not None:\n",
    "        filtered_df = filtered_df[filtered_df['Medicinal'] == medicinal]\n",
    "        \n",
    "    if other_uses is not None:\n",
    "        filtered_df = filtered_df[filtered_df['OtherUses'] == other_uses]\n",
    "        \n",
    "    if pfaf is not None:\n",
    "        filtered_df = filtered_df[filtered_df['PFAF'] == pfaf]\n",
    "\n",
    "    return filtered_df"
   ]
  },
  {
   "cell_type": "code",
   "execution_count": 33,
   "id": "3c8b2010",
   "metadata": {},
   "outputs": [],
   "source": [
    "df_filtered = filter_plants(data, \n",
    "                            hardiness_zone=5, \n",
    "                            pollinators=['flies'], \n",
    "                            growth_rate=['fast'])"
   ]
  },
  {
   "cell_type": "code",
   "execution_count": 34,
   "id": "8053120d",
   "metadata": {},
   "outputs": [
    {
     "data": {
      "text/html": [
       "<div>\n",
       "<style scoped>\n",
       "    .dataframe tbody tr th:only-of-type {\n",
       "        vertical-align: middle;\n",
       "    }\n",
       "\n",
       "    .dataframe tbody tr th {\n",
       "        vertical-align: top;\n",
       "    }\n",
       "\n",
       "    .dataframe thead th {\n",
       "        text-align: right;\n",
       "    }\n",
       "</style>\n",
       "<table border=\"1\" class=\"dataframe\">\n",
       "  <thead>\n",
       "    <tr style=\"text-align: right;\">\n",
       "      <th></th>\n",
       "      <th>Family</th>\n",
       "      <th>Genus</th>\n",
       "      <th>Species</th>\n",
       "      <th>CommonName</th>\n",
       "      <th>GrowthRate</th>\n",
       "      <th>HardinessZones</th>\n",
       "      <th>Height</th>\n",
       "      <th>Width</th>\n",
       "      <th>Type</th>\n",
       "      <th>Pollinators</th>\n",
       "      <th>...</th>\n",
       "      <th>Soils</th>\n",
       "      <th>pH</th>\n",
       "      <th>Preferences</th>\n",
       "      <th>Tolerances</th>\n",
       "      <th>Habitat</th>\n",
       "      <th>HabitatRange</th>\n",
       "      <th>Edibility</th>\n",
       "      <th>Medicinal</th>\n",
       "      <th>OtherUses</th>\n",
       "      <th>PFAF</th>\n",
       "    </tr>\n",
       "  </thead>\n",
       "  <tbody>\n",
       "    <tr>\n",
       "      <th>50</th>\n",
       "      <td>Aristolochiaceae</td>\n",
       "      <td>Asarum</td>\n",
       "      <td>shuttleworthii</td>\n",
       "      <td>Asarabacca, Mottled Wild Ginger</td>\n",
       "      <td>fast</td>\n",
       "      <td>[5, 6, 7, 8, 9]</td>\n",
       "      <td>0.1</td>\n",
       "      <td>0.3</td>\n",
       "      <td>evergreen</td>\n",
       "      <td>[flies]</td>\n",
       "      <td>...</td>\n",
       "      <td>['light', 'medium', 'heavy']</td>\n",
       "      <td>mildly acid and neutral</td>\n",
       "      <td>[' well-drained soil. Suitable pH: mildly acid']</td>\n",
       "      <td>[]</td>\n",
       "      <td>Rich mountain woods[235]. Acidic soils, often ...</td>\n",
       "      <td>South-eastern N. America - West Virginia to Al...</td>\n",
       "      <td>(2 of 5)</td>\n",
       "      <td>(0 of 5)</td>\n",
       "      <td>(2 of 5)</td>\n",
       "      <td>https://pfaf.org/user/Plant.aspx?LatinName=Asa...</td>\n",
       "    </tr>\n",
       "    <tr>\n",
       "      <th>159</th>\n",
       "      <td>Liliaceae</td>\n",
       "      <td>Fritillaria</td>\n",
       "      <td>camschatcensis</td>\n",
       "      <td>Kamchatka Lily,  \\tKamchatka fritillary</td>\n",
       "      <td>NaN</td>\n",
       "      <td>[4, 5, 6, 7, 8]</td>\n",
       "      <td>0.5</td>\n",
       "      <td>0.1</td>\n",
       "      <td>NaN</td>\n",
       "      <td>[flies]</td>\n",
       "      <td>...</td>\n",
       "      <td>['light', 'medium']</td>\n",
       "      <td>mildly acid, neutral and basic (mildly alkalin...</td>\n",
       "      <td>[' well-drained soil. Suitable pH: mildly acid...</td>\n",
       "      <td>[]</td>\n",
       "      <td>Moist areas from sea level to 600 metres[60] i...</td>\n",
       "      <td>Northern N. America - Washington to Alaska and...</td>\n",
       "      <td>(4 of 5)</td>\n",
       "      <td>(0 of 5)</td>\n",
       "      <td>(0 of 5)</td>\n",
       "      <td>https://pfaf.org/user/Plant.aspx?LatinName=Fri...</td>\n",
       "    </tr>\n",
       "    <tr>\n",
       "      <th>414</th>\n",
       "      <td>Scrophulariaceae</td>\n",
       "      <td>Veronica</td>\n",
       "      <td>officinalis</td>\n",
       "      <td>Common Speedwell</td>\n",
       "      <td>NaN</td>\n",
       "      <td>[3, 4, 5, 6, 7]</td>\n",
       "      <td>0.1</td>\n",
       "      <td>0.3</td>\n",
       "      <td>NaN</td>\n",
       "      <td>[flies,  bees]</td>\n",
       "      <td>...</td>\n",
       "      <td>['light', 'medium', 'heavy']</td>\n",
       "      <td>mildly acid, neutral and basic (mildly alkaline)</td>\n",
       "      <td>[' well-drained soil. Suitable pH: mildly acid...</td>\n",
       "      <td>[]</td>\n",
       "      <td>Heaths, moors, grassland, dry hedgebanks and c...</td>\n",
       "      <td>Europe, including Britain, from Iceland south ...</td>\n",
       "      <td>(1 of 5)</td>\n",
       "      <td>(2 of 5)</td>\n",
       "      <td>(0 of 5)</td>\n",
       "      <td>https://pfaf.org/user/Plant.aspx?LatinName=Ver...</td>\n",
       "    </tr>\n",
       "  </tbody>\n",
       "</table>\n",
       "<p>3 rows × 24 columns</p>\n",
       "</div>"
      ],
      "text/plain": [
       "               Family        Genus         Species  \\\n",
       "50   Aristolochiaceae       Asarum  shuttleworthii   \n",
       "159         Liliaceae  Fritillaria  camschatcensis   \n",
       "414  Scrophulariaceae     Veronica     officinalis   \n",
       "\n",
       "                                  CommonName GrowthRate   HardinessZones  \\\n",
       "50           Asarabacca, Mottled Wild Ginger       fast  [5, 6, 7, 8, 9]   \n",
       "159  Kamchatka Lily,  \\tKamchatka fritillary        NaN  [4, 5, 6, 7, 8]   \n",
       "414                         Common Speedwell        NaN  [3, 4, 5, 6, 7]   \n",
       "\n",
       "     Height  Width       Type     Pollinators  ...  \\\n",
       "50      0.1    0.3  evergreen         [flies]  ...   \n",
       "159     0.5    0.1        NaN         [flies]  ...   \n",
       "414     0.1    0.3        NaN  [flies,  bees]  ...   \n",
       "\n",
       "                            Soils  \\\n",
       "50   ['light', 'medium', 'heavy']   \n",
       "159           ['light', 'medium']   \n",
       "414  ['light', 'medium', 'heavy']   \n",
       "\n",
       "                                                    pH  \\\n",
       "50                             mildly acid and neutral   \n",
       "159  mildly acid, neutral and basic (mildly alkalin...   \n",
       "414   mildly acid, neutral and basic (mildly alkaline)   \n",
       "\n",
       "                                           Preferences Tolerances  \\\n",
       "50    [' well-drained soil. Suitable pH: mildly acid']         []   \n",
       "159  [' well-drained soil. Suitable pH: mildly acid...         []   \n",
       "414  [' well-drained soil. Suitable pH: mildly acid...         []   \n",
       "\n",
       "                                               Habitat  \\\n",
       "50   Rich mountain woods[235]. Acidic soils, often ...   \n",
       "159  Moist areas from sea level to 600 metres[60] i...   \n",
       "414  Heaths, moors, grassland, dry hedgebanks and c...   \n",
       "\n",
       "                                          HabitatRange Edibility Medicinal  \\\n",
       "50   South-eastern N. America - West Virginia to Al...  (2 of 5)  (0 of 5)   \n",
       "159  Northern N. America - Washington to Alaska and...  (4 of 5)  (0 of 5)   \n",
       "414  Europe, including Britain, from Iceland south ...  (1 of 5)  (2 of 5)   \n",
       "\n",
       "    OtherUses                                               PFAF  \n",
       "50   (2 of 5)  https://pfaf.org/user/Plant.aspx?LatinName=Asa...  \n",
       "159  (0 of 5)  https://pfaf.org/user/Plant.aspx?LatinName=Fri...  \n",
       "414  (0 of 5)  https://pfaf.org/user/Plant.aspx?LatinName=Ver...  \n",
       "\n",
       "[3 rows x 24 columns]"
      ]
     },
     "execution_count": 34,
     "metadata": {},
     "output_type": "execute_result"
    }
   ],
   "source": [
    "df_filtered"
   ]
  },
  {
   "cell_type": "code",
   "execution_count": 4,
   "id": "a8ad7ee4",
   "metadata": {},
   "outputs": [],
   "source": [
    "working_data = data[['CommonName', 'GrowthRate', 'Height', 'Width', 'pH', 'Habitat']]"
   ]
  },
  {
   "cell_type": "code",
   "execution_count": 5,
   "id": "311f6764",
   "metadata": {},
   "outputs": [],
   "source": [
    "def call_plant(data, search_name):\n",
    "    # dataframe with all results\n",
    "    results = data[data['CommonName'].str.lower().str.contains(search_name.lower().replace(\" \", \"|\"),na=False)]\n",
    "    all_results = []\n",
    "    # return first result for simplicity here, later allow for user to select from results\n",
    "#     for res in results:\n",
    "#         # get attributes, so as to not return a dataframe\n",
    "#         common_name = res['CommonName']\n",
    "#         height = res['Height']\n",
    "#         width = res['Width']\n",
    "#         ph = res['pH']\n",
    "#         habitat = res['Habitat']\n",
    "#         all_results.append({'name': common_name,\n",
    "#                            'height': height,\n",
    "#                            'width': width,\n",
    "#                            'ph': ph,\n",
    "#                            'habitat': habitat})\n",
    "#     return all_results\n",
    "    return results"
   ]
  },
  {
   "cell_type": "code",
   "execution_count": 6,
   "id": "948ba100",
   "metadata": {},
   "outputs": [],
   "source": [
    "search_result = call_plant(data=working_data, search_name='walnut')"
   ]
  },
  {
   "cell_type": "code",
   "execution_count": 7,
   "id": "b2f6570b",
   "metadata": {},
   "outputs": [
    {
     "data": {
      "text/html": [
       "<div>\n",
       "<style scoped>\n",
       "    .dataframe tbody tr th:only-of-type {\n",
       "        vertical-align: middle;\n",
       "    }\n",
       "\n",
       "    .dataframe tbody tr th {\n",
       "        vertical-align: top;\n",
       "    }\n",
       "\n",
       "    .dataframe thead th {\n",
       "        text-align: right;\n",
       "    }\n",
       "</style>\n",
       "<table border=\"1\" class=\"dataframe\">\n",
       "  <thead>\n",
       "    <tr style=\"text-align: right;\">\n",
       "      <th></th>\n",
       "      <th>CommonName</th>\n",
       "      <th>GrowthRate</th>\n",
       "      <th>Height</th>\n",
       "      <th>Width</th>\n",
       "      <th>pH</th>\n",
       "      <th>Habitat</th>\n",
       "    </tr>\n",
       "  </thead>\n",
       "  <tbody>\n",
       "    <tr>\n",
       "      <th>188</th>\n",
       "      <td>Black Walnut</td>\n",
       "      <td>fast</td>\n",
       "      <td>30.0</td>\n",
       "      <td>20.0</td>\n",
       "      <td>mildly acid, neutral and basic (mildly alkaline)</td>\n",
       "      <td>Rich fertile woods and hillsides[43, 82] in de...</td>\n",
       "    </tr>\n",
       "    <tr>\n",
       "      <th>189</th>\n",
       "      <td>Walnut, English walnut, Persian Walnut,</td>\n",
       "      <td>medium</td>\n",
       "      <td>20.0</td>\n",
       "      <td>20.0</td>\n",
       "      <td>mildly acid, neutral and basic (mildly alkaline)</td>\n",
       "      <td>Forests in the Himalayas, preferring a norther...</td>\n",
       "    </tr>\n",
       "  </tbody>\n",
       "</table>\n",
       "</div>"
      ],
      "text/plain": [
       "                                  CommonName GrowthRate  Height  Width  \\\n",
       "188                             Black Walnut       fast    30.0   20.0   \n",
       "189  Walnut, English walnut, Persian Walnut,     medium    20.0   20.0   \n",
       "\n",
       "                                                   pH  \\\n",
       "188  mildly acid, neutral and basic (mildly alkaline)   \n",
       "189  mildly acid, neutral and basic (mildly alkaline)   \n",
       "\n",
       "                                               Habitat  \n",
       "188  Rich fertile woods and hillsides[43, 82] in de...  \n",
       "189  Forests in the Himalayas, preferring a norther...  "
      ]
     },
     "execution_count": 7,
     "metadata": {},
     "output_type": "execute_result"
    }
   ],
   "source": [
    "search_result"
   ]
  },
  {
   "cell_type": "code",
   "execution_count": 8,
   "id": "37087f71",
   "metadata": {},
   "outputs": [
    {
     "name": "stdout",
     "output_type": "stream",
     "text": [
      "CommonName              Walnut, English walnut, Persian Walnut,\n",
      "GrowthRate                                               medium\n",
      "Height                                                     20.0\n",
      "Width                                                      20.0\n",
      "pH             mildly acid, neutral and basic (mildly alkaline)\n",
      "Habitat       Forests in the Himalayas, preferring a norther...\n",
      "Name: 189, dtype: object\n"
     ]
    }
   ],
   "source": [
    "print([res for res in search_result.iterrows()][1][1])"
   ]
  },
  {
   "cell_type": "code",
   "execution_count": 9,
   "id": "c11eb0ef",
   "metadata": {},
   "outputs": [
    {
     "name": "stdout",
     "output_type": "stream",
     "text": [
      "Black Walnut\n",
      "Walnut\n"
     ]
    }
   ],
   "source": [
    "for name in search_result['CommonName']:\n",
    "    print(name.split(',')[0])\n",
    "# Need to remove pfaf references in square brackets []"
   ]
  },
  {
   "cell_type": "code",
   "execution_count": 10,
   "id": "e918d4bf",
   "metadata": {},
   "outputs": [],
   "source": [
    "class MyDesign():\n",
    "    def __init__(self, length, width, units):\n",
    "        self.length = length\n",
    "        self.width = width\n",
    "        self.units = units\n",
    "        self.area = length * width\n",
    "        self.overlap = 0\n",
    "        # I'll use a list to store data, create dataframe when needed\n",
    "        self.data = []\n",
    "        \n",
    "    def add_plant(self, common_name, x_pos, y_pos, height, width):\n",
    "        self.data.append({\n",
    "            'common_name': common_name, # should change to latin name as unique id\n",
    "            'x, y': (x_pos, y_pos),\n",
    "            'height': height,\n",
    "            'width': width\n",
    "        })\n",
    "    \n",
    "    def to_dataframe(self):\n",
    "        df = pd.DataFrame(self.data)\n",
    "        # Use groupby latin_name to sum plants \n",
    "        ### *** THIS DOESNT WORK. NEED TO MAINTAIN INDIVIDUAL X- Y- POS AND COUNT TOTALS *** ### \n",
    "        return df.groupby('common_name').agg({\n",
    "            'common_name': 'count', 'x, y': 'unique', 'height': 'mean', 'width': 'mean'\n",
    "        })"
   ]
  },
  {
   "cell_type": "code",
   "execution_count": 11,
   "id": "edf998e2",
   "metadata": {},
   "outputs": [],
   "source": [
    "design1 = MyDesign(10, 20, 'meters')"
   ]
  },
  {
   "cell_type": "code",
   "execution_count": 12,
   "id": "82226ad3",
   "metadata": {},
   "outputs": [],
   "source": [
    "plant_list = ['walnut', 'onion', 'wild garlic',\n",
    "              'Rosemary', 'garlic', 'Grape', \n",
    "              'English walnut', 'english walnut', 'wild garlic']"
   ]
  },
  {
   "cell_type": "code",
   "execution_count": 13,
   "id": "b1aa33d1",
   "metadata": {},
   "outputs": [
    {
     "ename": "ValueError",
     "evalue": "too many values to unpack (expected 3)",
     "output_type": "error",
     "traceback": [
      "\u001B[0;31m---------------------------------------------------------------------------\u001B[0m",
      "\u001B[0;31mValueError\u001B[0m                                Traceback (most recent call last)",
      "Cell \u001B[0;32mIn [13], line 3\u001B[0m\n\u001B[1;32m      1\u001B[0m \u001B[38;5;28;01mfor\u001B[39;00m plant \u001B[38;5;129;01min\u001B[39;00m plant_list:\n\u001B[1;32m      2\u001B[0m     \u001B[38;5;28;01mtry\u001B[39;00m:\n\u001B[0;32m----> 3\u001B[0m         name, height, width \u001B[38;5;241m=\u001B[39m call_plant(working_data, plant)\n\u001B[1;32m      4\u001B[0m         x \u001B[38;5;241m=\u001B[39m \u001B[38;5;28mround\u001B[39m(random\u001B[38;5;241m.\u001B[39mrandom() \u001B[38;5;241m*\u001B[39m design1\u001B[38;5;241m.\u001B[39mwidth, \u001B[38;5;241m2\u001B[39m)\n\u001B[1;32m      5\u001B[0m         y \u001B[38;5;241m=\u001B[39m \u001B[38;5;28mround\u001B[39m(random\u001B[38;5;241m.\u001B[39mrandom() \u001B[38;5;241m*\u001B[39m design1\u001B[38;5;241m.\u001B[39mlength, \u001B[38;5;241m2\u001B[39m)\n",
      "\u001B[0;31mValueError\u001B[0m: too many values to unpack (expected 3)"
     ]
    }
   ],
   "source": [
    "for plant in plant_list:\n",
    "    try:\n",
    "        name, height, width = call_plant(working_data, plant)\n",
    "        x = round(random.random() * design1.width, 2)\n",
    "        y = round(random.random() * design1.length, 2)\n",
    "        design1.add_plant(common_name=name, x_pos=x, y_pos=y, height=height, width=width)\n",
    "    except TypeError:\n",
    "        pass"
   ]
  },
  {
   "cell_type": "code",
   "execution_count": null,
   "id": "08305cc2",
   "metadata": {},
   "outputs": [],
   "source": [
    "design1.data"
   ]
  },
  {
   "cell_type": "code",
   "execution_count": null,
   "id": "8d575ab2",
   "metadata": {},
   "outputs": [],
   "source": [
    "design1_df = design1.to_dataframe()"
   ]
  },
  {
   "cell_type": "code",
   "execution_count": null,
   "id": "826fddde",
   "metadata": {},
   "outputs": [],
   "source": [
    "design1_df"
   ]
  },
  {
   "cell_type": "code",
   "execution_count": 14,
   "id": "5360a47c",
   "metadata": {},
   "outputs": [],
   "source": [
    "test_dict = {'a': ['var1', 'var4', 9], 'b': 3, 'c': [6, 7]}"
   ]
  },
  {
   "cell_type": "code",
   "execution_count": 15,
   "id": "ecc73e87",
   "metadata": {},
   "outputs": [
    {
     "data": {
      "text/plain": [
       "3"
      ]
     },
     "execution_count": 15,
     "metadata": {},
     "output_type": "execute_result"
    }
   ],
   "source": [
    "len(test_dict)"
   ]
  },
  {
   "cell_type": "code",
   "execution_count": 17,
   "id": "9badcac9",
   "metadata": {},
   "outputs": [
    {
     "data": {
      "text/plain": [
       "dict_keys(['a', 'b', 'c'])"
      ]
     },
     "execution_count": 17,
     "metadata": {},
     "output_type": "execute_result"
    }
   ],
   "source": [
    "test_dict.keys()"
   ]
  },
  {
   "cell_type": "code",
   "execution_count": null,
   "id": "8d820c60",
   "metadata": {},
   "outputs": [],
   "source": []
  }
 ],
 "metadata": {
  "kernelspec": {
   "display_name": "Python 3 (ipykernel)",
   "language": "python",
   "name": "python3"
  },
  "language_info": {
   "codemirror_mode": {
    "name": "ipython",
    "version": 3
   },
   "file_extension": ".py",
   "mimetype": "text/x-python",
   "name": "python",
   "nbconvert_exporter": "python",
   "pygments_lexer": "ipython3",
   "version": "3.10.6"
  }
 },
 "nbformat": 4,
 "nbformat_minor": 5
}
