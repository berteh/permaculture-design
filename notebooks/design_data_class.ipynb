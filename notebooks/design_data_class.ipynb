{
 "cells": [
  {
   "cell_type": "code",
   "execution_count": 112,
   "id": "85bc7089",
   "metadata": {},
   "outputs": [],
   "source": [
    "import numpy as np\n",
    "import pandas as pd\n"
   ]
  },
  {
   "cell_type": "code",
   "execution_count": 113,
   "id": "43b02a1d",
   "metadata": {},
   "outputs": [],
   "source": [
    "data = pd.read_csv('../scrapers/pfaf/test_plants.csv')"
   ]
  },
  {
   "cell_type": "code",
   "execution_count": 114,
   "id": "cb070977",
   "metadata": {},
   "outputs": [],
   "source": [
    "# Fix in pfaf.py file to avoid first entry being empty\n",
    "data = data[1:]"
   ]
  },
  {
   "cell_type": "code",
   "execution_count": 116,
   "id": "a8ad7ee4",
   "metadata": {},
   "outputs": [],
   "source": [
    "working_data = data[['CommonName', 'GrowthRate', 'Height', 'Width', 'pH', 'Habitat']]"
   ]
  },
  {
   "cell_type": "code",
   "execution_count": 118,
   "id": "311f6764",
   "metadata": {},
   "outputs": [],
   "source": [
    "def call_plant(df, search_name):\n",
    "    # dataframe with all results\n",
    "    data = df[df['CommonName'].str.lower().str.contains(search_name.lower().replace(\" \", \"|\"))]\n",
    "    \n",
    "    # return first result for simplicity here, later allow for user to select from results\n",
    "    first_result = data.iloc[0, :]\n",
    "    \n",
    "    # get attributes, so as to not return a dataframe\n",
    "    common_name = first_result['CommonName']\n",
    "    height = first_result['Height']\n",
    "    width = first_result['Width']\n",
    "    ph = first_result['pH']\n",
    "    habitat = first_result['Habitat']\n",
    "    return common_name, height, width, ph, habitat"
   ]
  },
  {
   "cell_type": "code",
   "execution_count": 123,
   "id": "948ba100",
   "metadata": {},
   "outputs": [],
   "source": [
    "search_result = call_plant(df=working_data, search_name='walnut')"
   ]
  },
  {
   "cell_type": "code",
   "execution_count": 125,
   "id": "c11eb0ef",
   "metadata": {},
   "outputs": [
    {
     "data": {
      "text/plain": [
       "('Black Walnut',\n",
       " '30',\n",
       " 20.0,\n",
       " 'mildly acid, neutral and basic (mildly alkaline)',\n",
       " 'Rich fertile woods and hillsides[43, 82] in deep well-drained soils[229].')"
      ]
     },
     "execution_count": 125,
     "metadata": {},
     "output_type": "execute_result"
    }
   ],
   "source": [
    "search_result\n",
    "# Need to remove pfaf references in square brackets []"
   ]
  },
  {
   "cell_type": "code",
   "execution_count": 127,
   "id": "e918d4bf",
   "metadata": {},
   "outputs": [],
   "source": [
    "class MyDesign():\n",
    "    def __init__(self, length, width, units):\n",
    "        self.length = length\n",
    "        self.width = width\n",
    "        self.units = units\n",
    "        self.area = length * width\n",
    "        self.overlap = 0\n",
    "        # I'll use a list to store data, create dataframe when needed\n",
    "        self.data = []\n",
    "        \n",
    "    def add_plant(self, latin_name, x_pos, y_pos, width, height):\n",
    "        self.data.append({\n",
    "            'latin_name': latin_name,\n",
    "            'x': x_pos, \n",
    "            'y': y_pos, \n",
    "            'width': width,\n",
    "            'height': height # unnecessary?\n",
    "        })\n",
    "        \n",
    "    def to_dataframe(self):\n",
    "        df = pd.DataFrame(self.data)\n",
    "        # Use groupby latin_name to sum plants \n",
    "        ### Not sure if this works\n",
    "        return df.groupby('latin_name').sum()"
   ]
  },
  {
   "cell_type": "code",
   "execution_count": 128,
   "id": "edf998e2",
   "metadata": {},
   "outputs": [],
   "source": []
  },
  {
   "cell_type": "code",
   "execution_count": null,
   "id": "82226ad3",
   "metadata": {},
   "outputs": [],
   "source": []
  }
 ],
 "metadata": {
  "kernelspec": {
   "display_name": "Python 3 (ipykernel)",
   "language": "python",
   "name": "python3"
  },
  "language_info": {
   "codemirror_mode": {
    "name": "ipython",
    "version": 3
   },
   "file_extension": ".py",
   "mimetype": "text/x-python",
   "name": "python",
   "nbconvert_exporter": "python",
   "pygments_lexer": "ipython3",
   "version": "3.10.6"
  }
 },
 "nbformat": 4,
 "nbformat_minor": 5
}
